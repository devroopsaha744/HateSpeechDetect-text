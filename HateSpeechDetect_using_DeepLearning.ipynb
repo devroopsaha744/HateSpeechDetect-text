{
  "nbformat": 4,
  "nbformat_minor": 0,
  "metadata": {
    "colab": {
      "provenance": [],
      "gpuType": "T4",
      "authorship_tag": "ABX9TyOOkTUcYiKVbIhywOmwkwem",
      "include_colab_link": true
    },
    "kernelspec": {
      "name": "python3",
      "display_name": "Python 3"
    },
    "language_info": {
      "name": "python"
    },
    "accelerator": "GPU",
    "widgets": {
      "application/vnd.jupyter.widget-state+json": {
        "6c281cf919c34acdb903f026b2605114": {
          "model_module": "@jupyter-widgets/controls",
          "model_name": "HBoxModel",
          "model_module_version": "1.5.0",
          "state": {
            "_dom_classes": [],
            "_model_module": "@jupyter-widgets/controls",
            "_model_module_version": "1.5.0",
            "_model_name": "HBoxModel",
            "_view_count": null,
            "_view_module": "@jupyter-widgets/controls",
            "_view_module_version": "1.5.0",
            "_view_name": "HBoxView",
            "box_style": "",
            "children": [
              "IPY_MODEL_0684b530ca05412cbfb04a3689ea5468",
              "IPY_MODEL_9a1a581ad8ce457da2892423b701e0e6",
              "IPY_MODEL_3fa0e0eb53174c35b6dfc8e657e8e00c"
            ],
            "layout": "IPY_MODEL_afcca7d68e4a4264b9b34f15135c0c33"
          }
        },
        "0684b530ca05412cbfb04a3689ea5468": {
          "model_module": "@jupyter-widgets/controls",
          "model_name": "HTMLModel",
          "model_module_version": "1.5.0",
          "state": {
            "_dom_classes": [],
            "_model_module": "@jupyter-widgets/controls",
            "_model_module_version": "1.5.0",
            "_model_name": "HTMLModel",
            "_view_count": null,
            "_view_module": "@jupyter-widgets/controls",
            "_view_module_version": "1.5.0",
            "_view_name": "HTMLView",
            "description": "",
            "description_tooltip": null,
            "layout": "IPY_MODEL_2141d178b0254e078c34091f5c998f63",
            "placeholder": "​",
            "style": "IPY_MODEL_05c14cbd1f454044a6aae6766d40b760",
            "value": "Downloading readme: 100%"
          }
        },
        "9a1a581ad8ce457da2892423b701e0e6": {
          "model_module": "@jupyter-widgets/controls",
          "model_name": "FloatProgressModel",
          "model_module_version": "1.5.0",
          "state": {
            "_dom_classes": [],
            "_model_module": "@jupyter-widgets/controls",
            "_model_module_version": "1.5.0",
            "_model_name": "FloatProgressModel",
            "_view_count": null,
            "_view_module": "@jupyter-widgets/controls",
            "_view_module_version": "1.5.0",
            "_view_name": "ProgressView",
            "bar_style": "success",
            "description": "",
            "description_tooltip": null,
            "layout": "IPY_MODEL_9f60c2365e46465dae30ac37288a8bb0",
            "max": 5920,
            "min": 0,
            "orientation": "horizontal",
            "style": "IPY_MODEL_ebae48fc8ac74768b2fca4b76c909fe0",
            "value": 5920
          }
        },
        "3fa0e0eb53174c35b6dfc8e657e8e00c": {
          "model_module": "@jupyter-widgets/controls",
          "model_name": "HTMLModel",
          "model_module_version": "1.5.0",
          "state": {
            "_dom_classes": [],
            "_model_module": "@jupyter-widgets/controls",
            "_model_module_version": "1.5.0",
            "_model_name": "HTMLModel",
            "_view_count": null,
            "_view_module": "@jupyter-widgets/controls",
            "_view_module_version": "1.5.0",
            "_view_name": "HTMLView",
            "description": "",
            "description_tooltip": null,
            "layout": "IPY_MODEL_c3dc0a1237a54b1da021949864cc8e5f",
            "placeholder": "​",
            "style": "IPY_MODEL_78d6089735f347d6b7917add61d670a0",
            "value": " 5.92k/5.92k [00:00&lt;00:00, 419kB/s]"
          }
        },
        "afcca7d68e4a4264b9b34f15135c0c33": {
          "model_module": "@jupyter-widgets/base",
          "model_name": "LayoutModel",
          "model_module_version": "1.2.0",
          "state": {
            "_model_module": "@jupyter-widgets/base",
            "_model_module_version": "1.2.0",
            "_model_name": "LayoutModel",
            "_view_count": null,
            "_view_module": "@jupyter-widgets/base",
            "_view_module_version": "1.2.0",
            "_view_name": "LayoutView",
            "align_content": null,
            "align_items": null,
            "align_self": null,
            "border": null,
            "bottom": null,
            "display": null,
            "flex": null,
            "flex_flow": null,
            "grid_area": null,
            "grid_auto_columns": null,
            "grid_auto_flow": null,
            "grid_auto_rows": null,
            "grid_column": null,
            "grid_gap": null,
            "grid_row": null,
            "grid_template_areas": null,
            "grid_template_columns": null,
            "grid_template_rows": null,
            "height": null,
            "justify_content": null,
            "justify_items": null,
            "left": null,
            "margin": null,
            "max_height": null,
            "max_width": null,
            "min_height": null,
            "min_width": null,
            "object_fit": null,
            "object_position": null,
            "order": null,
            "overflow": null,
            "overflow_x": null,
            "overflow_y": null,
            "padding": null,
            "right": null,
            "top": null,
            "visibility": null,
            "width": null
          }
        },
        "2141d178b0254e078c34091f5c998f63": {
          "model_module": "@jupyter-widgets/base",
          "model_name": "LayoutModel",
          "model_module_version": "1.2.0",
          "state": {
            "_model_module": "@jupyter-widgets/base",
            "_model_module_version": "1.2.0",
            "_model_name": "LayoutModel",
            "_view_count": null,
            "_view_module": "@jupyter-widgets/base",
            "_view_module_version": "1.2.0",
            "_view_name": "LayoutView",
            "align_content": null,
            "align_items": null,
            "align_self": null,
            "border": null,
            "bottom": null,
            "display": null,
            "flex": null,
            "flex_flow": null,
            "grid_area": null,
            "grid_auto_columns": null,
            "grid_auto_flow": null,
            "grid_auto_rows": null,
            "grid_column": null,
            "grid_gap": null,
            "grid_row": null,
            "grid_template_areas": null,
            "grid_template_columns": null,
            "grid_template_rows": null,
            "height": null,
            "justify_content": null,
            "justify_items": null,
            "left": null,
            "margin": null,
            "max_height": null,
            "max_width": null,
            "min_height": null,
            "min_width": null,
            "object_fit": null,
            "object_position": null,
            "order": null,
            "overflow": null,
            "overflow_x": null,
            "overflow_y": null,
            "padding": null,
            "right": null,
            "top": null,
            "visibility": null,
            "width": null
          }
        },
        "05c14cbd1f454044a6aae6766d40b760": {
          "model_module": "@jupyter-widgets/controls",
          "model_name": "DescriptionStyleModel",
          "model_module_version": "1.5.0",
          "state": {
            "_model_module": "@jupyter-widgets/controls",
            "_model_module_version": "1.5.0",
            "_model_name": "DescriptionStyleModel",
            "_view_count": null,
            "_view_module": "@jupyter-widgets/base",
            "_view_module_version": "1.2.0",
            "_view_name": "StyleView",
            "description_width": ""
          }
        },
        "9f60c2365e46465dae30ac37288a8bb0": {
          "model_module": "@jupyter-widgets/base",
          "model_name": "LayoutModel",
          "model_module_version": "1.2.0",
          "state": {
            "_model_module": "@jupyter-widgets/base",
            "_model_module_version": "1.2.0",
            "_model_name": "LayoutModel",
            "_view_count": null,
            "_view_module": "@jupyter-widgets/base",
            "_view_module_version": "1.2.0",
            "_view_name": "LayoutView",
            "align_content": null,
            "align_items": null,
            "align_self": null,
            "border": null,
            "bottom": null,
            "display": null,
            "flex": null,
            "flex_flow": null,
            "grid_area": null,
            "grid_auto_columns": null,
            "grid_auto_flow": null,
            "grid_auto_rows": null,
            "grid_column": null,
            "grid_gap": null,
            "grid_row": null,
            "grid_template_areas": null,
            "grid_template_columns": null,
            "grid_template_rows": null,
            "height": null,
            "justify_content": null,
            "justify_items": null,
            "left": null,
            "margin": null,
            "max_height": null,
            "max_width": null,
            "min_height": null,
            "min_width": null,
            "object_fit": null,
            "object_position": null,
            "order": null,
            "overflow": null,
            "overflow_x": null,
            "overflow_y": null,
            "padding": null,
            "right": null,
            "top": null,
            "visibility": null,
            "width": null
          }
        },
        "ebae48fc8ac74768b2fca4b76c909fe0": {
          "model_module": "@jupyter-widgets/controls",
          "model_name": "ProgressStyleModel",
          "model_module_version": "1.5.0",
          "state": {
            "_model_module": "@jupyter-widgets/controls",
            "_model_module_version": "1.5.0",
            "_model_name": "ProgressStyleModel",
            "_view_count": null,
            "_view_module": "@jupyter-widgets/base",
            "_view_module_version": "1.2.0",
            "_view_name": "StyleView",
            "bar_color": null,
            "description_width": ""
          }
        },
        "c3dc0a1237a54b1da021949864cc8e5f": {
          "model_module": "@jupyter-widgets/base",
          "model_name": "LayoutModel",
          "model_module_version": "1.2.0",
          "state": {
            "_model_module": "@jupyter-widgets/base",
            "_model_module_version": "1.2.0",
            "_model_name": "LayoutModel",
            "_view_count": null,
            "_view_module": "@jupyter-widgets/base",
            "_view_module_version": "1.2.0",
            "_view_name": "LayoutView",
            "align_content": null,
            "align_items": null,
            "align_self": null,
            "border": null,
            "bottom": null,
            "display": null,
            "flex": null,
            "flex_flow": null,
            "grid_area": null,
            "grid_auto_columns": null,
            "grid_auto_flow": null,
            "grid_auto_rows": null,
            "grid_column": null,
            "grid_gap": null,
            "grid_row": null,
            "grid_template_areas": null,
            "grid_template_columns": null,
            "grid_template_rows": null,
            "height": null,
            "justify_content": null,
            "justify_items": null,
            "left": null,
            "margin": null,
            "max_height": null,
            "max_width": null,
            "min_height": null,
            "min_width": null,
            "object_fit": null,
            "object_position": null,
            "order": null,
            "overflow": null,
            "overflow_x": null,
            "overflow_y": null,
            "padding": null,
            "right": null,
            "top": null,
            "visibility": null,
            "width": null
          }
        },
        "78d6089735f347d6b7917add61d670a0": {
          "model_module": "@jupyter-widgets/controls",
          "model_name": "DescriptionStyleModel",
          "model_module_version": "1.5.0",
          "state": {
            "_model_module": "@jupyter-widgets/controls",
            "_model_module_version": "1.5.0",
            "_model_name": "DescriptionStyleModel",
            "_view_count": null,
            "_view_module": "@jupyter-widgets/base",
            "_view_module_version": "1.2.0",
            "_view_name": "StyleView",
            "description_width": ""
          }
        },
        "6e3927ee101c44c9900d116c08e5d2a1": {
          "model_module": "@jupyter-widgets/controls",
          "model_name": "HBoxModel",
          "model_module_version": "1.5.0",
          "state": {
            "_dom_classes": [],
            "_model_module": "@jupyter-widgets/controls",
            "_model_module_version": "1.5.0",
            "_model_name": "HBoxModel",
            "_view_count": null,
            "_view_module": "@jupyter-widgets/controls",
            "_view_module_version": "1.5.0",
            "_view_name": "HBoxView",
            "box_style": "",
            "children": [
              "IPY_MODEL_952d7d144f7647178716f71f6b78c683",
              "IPY_MODEL_025faf4348af4641abfb86b8277b8e33",
              "IPY_MODEL_f4964f34be204113a517f78bb2a4763e"
            ],
            "layout": "IPY_MODEL_08ecf2f949b7412ea74d9691df4761ee"
          }
        },
        "952d7d144f7647178716f71f6b78c683": {
          "model_module": "@jupyter-widgets/controls",
          "model_name": "HTMLModel",
          "model_module_version": "1.5.0",
          "state": {
            "_dom_classes": [],
            "_model_module": "@jupyter-widgets/controls",
            "_model_module_version": "1.5.0",
            "_model_name": "HTMLModel",
            "_view_count": null,
            "_view_module": "@jupyter-widgets/controls",
            "_view_module_version": "1.5.0",
            "_view_name": "HTMLView",
            "description": "",
            "description_tooltip": null,
            "layout": "IPY_MODEL_37550169de0547b7bc24041e31c0f696",
            "placeholder": "​",
            "style": "IPY_MODEL_e7b36bbc2c1143eda3221ea351975029",
            "value": "Downloading data: 100%"
          }
        },
        "025faf4348af4641abfb86b8277b8e33": {
          "model_module": "@jupyter-widgets/controls",
          "model_name": "FloatProgressModel",
          "model_module_version": "1.5.0",
          "state": {
            "_dom_classes": [],
            "_model_module": "@jupyter-widgets/controls",
            "_model_module_version": "1.5.0",
            "_model_name": "FloatProgressModel",
            "_view_count": null,
            "_view_module": "@jupyter-widgets/controls",
            "_view_module_version": "1.5.0",
            "_view_name": "ProgressView",
            "bar_style": "success",
            "description": "",
            "description_tooltip": null,
            "layout": "IPY_MODEL_ad16d84fe59b43f19a255b5201df48b3",
            "max": 1627672,
            "min": 0,
            "orientation": "horizontal",
            "style": "IPY_MODEL_f96e98d048dc42a28c63284d4b44265b",
            "value": 1627672
          }
        },
        "f4964f34be204113a517f78bb2a4763e": {
          "model_module": "@jupyter-widgets/controls",
          "model_name": "HTMLModel",
          "model_module_version": "1.5.0",
          "state": {
            "_dom_classes": [],
            "_model_module": "@jupyter-widgets/controls",
            "_model_module_version": "1.5.0",
            "_model_name": "HTMLModel",
            "_view_count": null,
            "_view_module": "@jupyter-widgets/controls",
            "_view_module_version": "1.5.0",
            "_view_name": "HTMLView",
            "description": "",
            "description_tooltip": null,
            "layout": "IPY_MODEL_0de895ea40944bdf8c6b26e4e1f0f248",
            "placeholder": "​",
            "style": "IPY_MODEL_a73a33459db84637a4d4bee8022adbba",
            "value": " 1.63M/1.63M [00:00&lt;00:00, 4.89MB/s]"
          }
        },
        "08ecf2f949b7412ea74d9691df4761ee": {
          "model_module": "@jupyter-widgets/base",
          "model_name": "LayoutModel",
          "model_module_version": "1.2.0",
          "state": {
            "_model_module": "@jupyter-widgets/base",
            "_model_module_version": "1.2.0",
            "_model_name": "LayoutModel",
            "_view_count": null,
            "_view_module": "@jupyter-widgets/base",
            "_view_module_version": "1.2.0",
            "_view_name": "LayoutView",
            "align_content": null,
            "align_items": null,
            "align_self": null,
            "border": null,
            "bottom": null,
            "display": null,
            "flex": null,
            "flex_flow": null,
            "grid_area": null,
            "grid_auto_columns": null,
            "grid_auto_flow": null,
            "grid_auto_rows": null,
            "grid_column": null,
            "grid_gap": null,
            "grid_row": null,
            "grid_template_areas": null,
            "grid_template_columns": null,
            "grid_template_rows": null,
            "height": null,
            "justify_content": null,
            "justify_items": null,
            "left": null,
            "margin": null,
            "max_height": null,
            "max_width": null,
            "min_height": null,
            "min_width": null,
            "object_fit": null,
            "object_position": null,
            "order": null,
            "overflow": null,
            "overflow_x": null,
            "overflow_y": null,
            "padding": null,
            "right": null,
            "top": null,
            "visibility": null,
            "width": null
          }
        },
        "37550169de0547b7bc24041e31c0f696": {
          "model_module": "@jupyter-widgets/base",
          "model_name": "LayoutModel",
          "model_module_version": "1.2.0",
          "state": {
            "_model_module": "@jupyter-widgets/base",
            "_model_module_version": "1.2.0",
            "_model_name": "LayoutModel",
            "_view_count": null,
            "_view_module": "@jupyter-widgets/base",
            "_view_module_version": "1.2.0",
            "_view_name": "LayoutView",
            "align_content": null,
            "align_items": null,
            "align_self": null,
            "border": null,
            "bottom": null,
            "display": null,
            "flex": null,
            "flex_flow": null,
            "grid_area": null,
            "grid_auto_columns": null,
            "grid_auto_flow": null,
            "grid_auto_rows": null,
            "grid_column": null,
            "grid_gap": null,
            "grid_row": null,
            "grid_template_areas": null,
            "grid_template_columns": null,
            "grid_template_rows": null,
            "height": null,
            "justify_content": null,
            "justify_items": null,
            "left": null,
            "margin": null,
            "max_height": null,
            "max_width": null,
            "min_height": null,
            "min_width": null,
            "object_fit": null,
            "object_position": null,
            "order": null,
            "overflow": null,
            "overflow_x": null,
            "overflow_y": null,
            "padding": null,
            "right": null,
            "top": null,
            "visibility": null,
            "width": null
          }
        },
        "e7b36bbc2c1143eda3221ea351975029": {
          "model_module": "@jupyter-widgets/controls",
          "model_name": "DescriptionStyleModel",
          "model_module_version": "1.5.0",
          "state": {
            "_model_module": "@jupyter-widgets/controls",
            "_model_module_version": "1.5.0",
            "_model_name": "DescriptionStyleModel",
            "_view_count": null,
            "_view_module": "@jupyter-widgets/base",
            "_view_module_version": "1.2.0",
            "_view_name": "StyleView",
            "description_width": ""
          }
        },
        "ad16d84fe59b43f19a255b5201df48b3": {
          "model_module": "@jupyter-widgets/base",
          "model_name": "LayoutModel",
          "model_module_version": "1.2.0",
          "state": {
            "_model_module": "@jupyter-widgets/base",
            "_model_module_version": "1.2.0",
            "_model_name": "LayoutModel",
            "_view_count": null,
            "_view_module": "@jupyter-widgets/base",
            "_view_module_version": "1.2.0",
            "_view_name": "LayoutView",
            "align_content": null,
            "align_items": null,
            "align_self": null,
            "border": null,
            "bottom": null,
            "display": null,
            "flex": null,
            "flex_flow": null,
            "grid_area": null,
            "grid_auto_columns": null,
            "grid_auto_flow": null,
            "grid_auto_rows": null,
            "grid_column": null,
            "grid_gap": null,
            "grid_row": null,
            "grid_template_areas": null,
            "grid_template_columns": null,
            "grid_template_rows": null,
            "height": null,
            "justify_content": null,
            "justify_items": null,
            "left": null,
            "margin": null,
            "max_height": null,
            "max_width": null,
            "min_height": null,
            "min_width": null,
            "object_fit": null,
            "object_position": null,
            "order": null,
            "overflow": null,
            "overflow_x": null,
            "overflow_y": null,
            "padding": null,
            "right": null,
            "top": null,
            "visibility": null,
            "width": null
          }
        },
        "f96e98d048dc42a28c63284d4b44265b": {
          "model_module": "@jupyter-widgets/controls",
          "model_name": "ProgressStyleModel",
          "model_module_version": "1.5.0",
          "state": {
            "_model_module": "@jupyter-widgets/controls",
            "_model_module_version": "1.5.0",
            "_model_name": "ProgressStyleModel",
            "_view_count": null,
            "_view_module": "@jupyter-widgets/base",
            "_view_module_version": "1.2.0",
            "_view_name": "StyleView",
            "bar_color": null,
            "description_width": ""
          }
        },
        "0de895ea40944bdf8c6b26e4e1f0f248": {
          "model_module": "@jupyter-widgets/base",
          "model_name": "LayoutModel",
          "model_module_version": "1.2.0",
          "state": {
            "_model_module": "@jupyter-widgets/base",
            "_model_module_version": "1.2.0",
            "_model_name": "LayoutModel",
            "_view_count": null,
            "_view_module": "@jupyter-widgets/base",
            "_view_module_version": "1.2.0",
            "_view_name": "LayoutView",
            "align_content": null,
            "align_items": null,
            "align_self": null,
            "border": null,
            "bottom": null,
            "display": null,
            "flex": null,
            "flex_flow": null,
            "grid_area": null,
            "grid_auto_columns": null,
            "grid_auto_flow": null,
            "grid_auto_rows": null,
            "grid_column": null,
            "grid_gap": null,
            "grid_row": null,
            "grid_template_areas": null,
            "grid_template_columns": null,
            "grid_template_rows": null,
            "height": null,
            "justify_content": null,
            "justify_items": null,
            "left": null,
            "margin": null,
            "max_height": null,
            "max_width": null,
            "min_height": null,
            "min_width": null,
            "object_fit": null,
            "object_position": null,
            "order": null,
            "overflow": null,
            "overflow_x": null,
            "overflow_y": null,
            "padding": null,
            "right": null,
            "top": null,
            "visibility": null,
            "width": null
          }
        },
        "a73a33459db84637a4d4bee8022adbba": {
          "model_module": "@jupyter-widgets/controls",
          "model_name": "DescriptionStyleModel",
          "model_module_version": "1.5.0",
          "state": {
            "_model_module": "@jupyter-widgets/controls",
            "_model_module_version": "1.5.0",
            "_model_name": "DescriptionStyleModel",
            "_view_count": null,
            "_view_module": "@jupyter-widgets/base",
            "_view_module_version": "1.2.0",
            "_view_name": "StyleView",
            "description_width": ""
          }
        },
        "a520bf3183834faa8c95ccd6a53a3588": {
          "model_module": "@jupyter-widgets/controls",
          "model_name": "HBoxModel",
          "model_module_version": "1.5.0",
          "state": {
            "_dom_classes": [],
            "_model_module": "@jupyter-widgets/controls",
            "_model_module_version": "1.5.0",
            "_model_name": "HBoxModel",
            "_view_count": null,
            "_view_module": "@jupyter-widgets/controls",
            "_view_module_version": "1.5.0",
            "_view_name": "HBoxView",
            "box_style": "",
            "children": [
              "IPY_MODEL_ea5a89f7136b47c8a3f67463c0463a09",
              "IPY_MODEL_0ec76ec9931d41989f6354a5459bf20b",
              "IPY_MODEL_7ef1721188514947b3c116308af94ac2"
            ],
            "layout": "IPY_MODEL_8aa4645d8d224a75aba59e951c1f3960"
          }
        },
        "ea5a89f7136b47c8a3f67463c0463a09": {
          "model_module": "@jupyter-widgets/controls",
          "model_name": "HTMLModel",
          "model_module_version": "1.5.0",
          "state": {
            "_dom_classes": [],
            "_model_module": "@jupyter-widgets/controls",
            "_model_module_version": "1.5.0",
            "_model_name": "HTMLModel",
            "_view_count": null,
            "_view_module": "@jupyter-widgets/controls",
            "_view_module_version": "1.5.0",
            "_view_name": "HTMLView",
            "description": "",
            "description_tooltip": null,
            "layout": "IPY_MODEL_57a0e7746cf74ab08afb980d90510e06",
            "placeholder": "​",
            "style": "IPY_MODEL_89ada1be06274ccfa23016a49d03b324",
            "value": "Generating train split: 100%"
          }
        },
        "0ec76ec9931d41989f6354a5459bf20b": {
          "model_module": "@jupyter-widgets/controls",
          "model_name": "FloatProgressModel",
          "model_module_version": "1.5.0",
          "state": {
            "_dom_classes": [],
            "_model_module": "@jupyter-widgets/controls",
            "_model_module_version": "1.5.0",
            "_model_name": "FloatProgressModel",
            "_view_count": null,
            "_view_module": "@jupyter-widgets/controls",
            "_view_module_version": "1.5.0",
            "_view_name": "ProgressView",
            "bar_style": "success",
            "description": "",
            "description_tooltip": null,
            "layout": "IPY_MODEL_9741580a7a8a4e57b535f7ca6964f4a9",
            "max": 24783,
            "min": 0,
            "orientation": "horizontal",
            "style": "IPY_MODEL_2f5cd472fdf64985837b8282a4b1653b",
            "value": 24783
          }
        },
        "7ef1721188514947b3c116308af94ac2": {
          "model_module": "@jupyter-widgets/controls",
          "model_name": "HTMLModel",
          "model_module_version": "1.5.0",
          "state": {
            "_dom_classes": [],
            "_model_module": "@jupyter-widgets/controls",
            "_model_module_version": "1.5.0",
            "_model_name": "HTMLModel",
            "_view_count": null,
            "_view_module": "@jupyter-widgets/controls",
            "_view_module_version": "1.5.0",
            "_view_name": "HTMLView",
            "description": "",
            "description_tooltip": null,
            "layout": "IPY_MODEL_55373a6ba6184f37ae4a0b6dd474d0e7",
            "placeholder": "​",
            "style": "IPY_MODEL_4309e575d3824af0a45790d7221282d6",
            "value": " 24783/24783 [00:00&lt;00:00, 277529.90 examples/s]"
          }
        },
        "8aa4645d8d224a75aba59e951c1f3960": {
          "model_module": "@jupyter-widgets/base",
          "model_name": "LayoutModel",
          "model_module_version": "1.2.0",
          "state": {
            "_model_module": "@jupyter-widgets/base",
            "_model_module_version": "1.2.0",
            "_model_name": "LayoutModel",
            "_view_count": null,
            "_view_module": "@jupyter-widgets/base",
            "_view_module_version": "1.2.0",
            "_view_name": "LayoutView",
            "align_content": null,
            "align_items": null,
            "align_self": null,
            "border": null,
            "bottom": null,
            "display": null,
            "flex": null,
            "flex_flow": null,
            "grid_area": null,
            "grid_auto_columns": null,
            "grid_auto_flow": null,
            "grid_auto_rows": null,
            "grid_column": null,
            "grid_gap": null,
            "grid_row": null,
            "grid_template_areas": null,
            "grid_template_columns": null,
            "grid_template_rows": null,
            "height": null,
            "justify_content": null,
            "justify_items": null,
            "left": null,
            "margin": null,
            "max_height": null,
            "max_width": null,
            "min_height": null,
            "min_width": null,
            "object_fit": null,
            "object_position": null,
            "order": null,
            "overflow": null,
            "overflow_x": null,
            "overflow_y": null,
            "padding": null,
            "right": null,
            "top": null,
            "visibility": null,
            "width": null
          }
        },
        "57a0e7746cf74ab08afb980d90510e06": {
          "model_module": "@jupyter-widgets/base",
          "model_name": "LayoutModel",
          "model_module_version": "1.2.0",
          "state": {
            "_model_module": "@jupyter-widgets/base",
            "_model_module_version": "1.2.0",
            "_model_name": "LayoutModel",
            "_view_count": null,
            "_view_module": "@jupyter-widgets/base",
            "_view_module_version": "1.2.0",
            "_view_name": "LayoutView",
            "align_content": null,
            "align_items": null,
            "align_self": null,
            "border": null,
            "bottom": null,
            "display": null,
            "flex": null,
            "flex_flow": null,
            "grid_area": null,
            "grid_auto_columns": null,
            "grid_auto_flow": null,
            "grid_auto_rows": null,
            "grid_column": null,
            "grid_gap": null,
            "grid_row": null,
            "grid_template_areas": null,
            "grid_template_columns": null,
            "grid_template_rows": null,
            "height": null,
            "justify_content": null,
            "justify_items": null,
            "left": null,
            "margin": null,
            "max_height": null,
            "max_width": null,
            "min_height": null,
            "min_width": null,
            "object_fit": null,
            "object_position": null,
            "order": null,
            "overflow": null,
            "overflow_x": null,
            "overflow_y": null,
            "padding": null,
            "right": null,
            "top": null,
            "visibility": null,
            "width": null
          }
        },
        "89ada1be06274ccfa23016a49d03b324": {
          "model_module": "@jupyter-widgets/controls",
          "model_name": "DescriptionStyleModel",
          "model_module_version": "1.5.0",
          "state": {
            "_model_module": "@jupyter-widgets/controls",
            "_model_module_version": "1.5.0",
            "_model_name": "DescriptionStyleModel",
            "_view_count": null,
            "_view_module": "@jupyter-widgets/base",
            "_view_module_version": "1.2.0",
            "_view_name": "StyleView",
            "description_width": ""
          }
        },
        "9741580a7a8a4e57b535f7ca6964f4a9": {
          "model_module": "@jupyter-widgets/base",
          "model_name": "LayoutModel",
          "model_module_version": "1.2.0",
          "state": {
            "_model_module": "@jupyter-widgets/base",
            "_model_module_version": "1.2.0",
            "_model_name": "LayoutModel",
            "_view_count": null,
            "_view_module": "@jupyter-widgets/base",
            "_view_module_version": "1.2.0",
            "_view_name": "LayoutView",
            "align_content": null,
            "align_items": null,
            "align_self": null,
            "border": null,
            "bottom": null,
            "display": null,
            "flex": null,
            "flex_flow": null,
            "grid_area": null,
            "grid_auto_columns": null,
            "grid_auto_flow": null,
            "grid_auto_rows": null,
            "grid_column": null,
            "grid_gap": null,
            "grid_row": null,
            "grid_template_areas": null,
            "grid_template_columns": null,
            "grid_template_rows": null,
            "height": null,
            "justify_content": null,
            "justify_items": null,
            "left": null,
            "margin": null,
            "max_height": null,
            "max_width": null,
            "min_height": null,
            "min_width": null,
            "object_fit": null,
            "object_position": null,
            "order": null,
            "overflow": null,
            "overflow_x": null,
            "overflow_y": null,
            "padding": null,
            "right": null,
            "top": null,
            "visibility": null,
            "width": null
          }
        },
        "2f5cd472fdf64985837b8282a4b1653b": {
          "model_module": "@jupyter-widgets/controls",
          "model_name": "ProgressStyleModel",
          "model_module_version": "1.5.0",
          "state": {
            "_model_module": "@jupyter-widgets/controls",
            "_model_module_version": "1.5.0",
            "_model_name": "ProgressStyleModel",
            "_view_count": null,
            "_view_module": "@jupyter-widgets/base",
            "_view_module_version": "1.2.0",
            "_view_name": "StyleView",
            "bar_color": null,
            "description_width": ""
          }
        },
        "55373a6ba6184f37ae4a0b6dd474d0e7": {
          "model_module": "@jupyter-widgets/base",
          "model_name": "LayoutModel",
          "model_module_version": "1.2.0",
          "state": {
            "_model_module": "@jupyter-widgets/base",
            "_model_module_version": "1.2.0",
            "_model_name": "LayoutModel",
            "_view_count": null,
            "_view_module": "@jupyter-widgets/base",
            "_view_module_version": "1.2.0",
            "_view_name": "LayoutView",
            "align_content": null,
            "align_items": null,
            "align_self": null,
            "border": null,
            "bottom": null,
            "display": null,
            "flex": null,
            "flex_flow": null,
            "grid_area": null,
            "grid_auto_columns": null,
            "grid_auto_flow": null,
            "grid_auto_rows": null,
            "grid_column": null,
            "grid_gap": null,
            "grid_row": null,
            "grid_template_areas": null,
            "grid_template_columns": null,
            "grid_template_rows": null,
            "height": null,
            "justify_content": null,
            "justify_items": null,
            "left": null,
            "margin": null,
            "max_height": null,
            "max_width": null,
            "min_height": null,
            "min_width": null,
            "object_fit": null,
            "object_position": null,
            "order": null,
            "overflow": null,
            "overflow_x": null,
            "overflow_y": null,
            "padding": null,
            "right": null,
            "top": null,
            "visibility": null,
            "width": null
          }
        },
        "4309e575d3824af0a45790d7221282d6": {
          "model_module": "@jupyter-widgets/controls",
          "model_name": "DescriptionStyleModel",
          "model_module_version": "1.5.0",
          "state": {
            "_model_module": "@jupyter-widgets/controls",
            "_model_module_version": "1.5.0",
            "_model_name": "DescriptionStyleModel",
            "_view_count": null,
            "_view_module": "@jupyter-widgets/base",
            "_view_module_version": "1.2.0",
            "_view_name": "StyleView",
            "description_width": ""
          }
        }
      }
    }
  },
  "cells": [
    {
      "cell_type": "markdown",
      "metadata": {
        "id": "view-in-github",
        "colab_type": "text"
      },
      "source": [
        "<a href=\"https://colab.research.google.com/github/devroopsaha744/HateSpeechDetect-text/blob/main/HateSpeechDetect_using_DeepLearning.ipynb\" target=\"_parent\"><img src=\"https://colab.research.google.com/assets/colab-badge.svg\" alt=\"Open In Colab\"/></a>"
      ]
    },
    {
      "cell_type": "code",
      "execution_count": 1,
      "metadata": {
        "id": "WPm1140EyF5t",
        "colab": {
          "base_uri": "https://localhost:8080/"
        },
        "outputId": "9342d0f2-50b3-47e1-e059-b2654fb4b885"
      },
      "outputs": [
        {
          "output_type": "stream",
          "name": "stdout",
          "text": [
            "\u001b[2K     \u001b[90m━━━━━━━━━━━━━━━━━━━━━━━━━━━━━━━━━━━━━━━━\u001b[0m \u001b[32m542.0/542.0 kB\u001b[0m \u001b[31m5.5 MB/s\u001b[0m eta \u001b[36m0:00:00\u001b[0m\n",
            "\u001b[2K     \u001b[90m━━━━━━━━━━━━━━━━━━━━━━━━━━━━━━━━━━━━━━━━\u001b[0m \u001b[32m116.3/116.3 kB\u001b[0m \u001b[31m6.2 MB/s\u001b[0m eta \u001b[36m0:00:00\u001b[0m\n",
            "\u001b[2K     \u001b[90m━━━━━━━━━━━━━━━━━━━━━━━━━━━━━━━━━━━━━━━━\u001b[0m \u001b[32m194.1/194.1 kB\u001b[0m \u001b[31m7.1 MB/s\u001b[0m eta \u001b[36m0:00:00\u001b[0m\n",
            "\u001b[2K     \u001b[90m━━━━━━━━━━━━━━━━━━━━━━━━━━━━━━━━━━━━━━━━\u001b[0m \u001b[32m134.8/134.8 kB\u001b[0m \u001b[31m6.9 MB/s\u001b[0m eta \u001b[36m0:00:00\u001b[0m\n",
            "\u001b[?25h"
          ]
        }
      ],
      "source": [
        "!pip install datasets -q\n",
        "!pip install imbalanced-learn -q"
      ]
    },
    {
      "cell_type": "code",
      "source": [
        "from datasets import load_dataset\n",
        "import pandas as pd\n",
        "import numpy as np\n",
        "import tensorflow as tf\n",
        "from tensorflow import keras\n",
        "from sklearn.model_selection import train_test_split\n",
        "from sklearn.metrics import classification_report\n",
        "from tensorflow.keras.models import Sequential\n",
        "from tensorflow.keras.layers import SimpleRNN, LSTM, Dense, Dropout\n",
        "from tensorflow.keras.utils import pad_sequences, to_categorical\n",
        "from imblearn.over_sampling import SMOTE\n",
        "from imblearn.under_sampling import RandomUnderSampler\n",
        "from imblearn.pipeline import Pipeline\n",
        "from tensorflow.keras.models import load_model"
      ],
      "metadata": {
        "id": "Rpmhqf0X7HTr"
      },
      "execution_count": 2,
      "outputs": []
    },
    {
      "cell_type": "code",
      "source": [
        "import nltk\n",
        "nltk.download('punkt')\n",
        "nltk.download('stopwords')\n",
        "nltk.download('wordnet')\n",
        "from gensim.models import Word2Vec\n",
        "import re\n",
        "from nltk.corpus import stopwords\n",
        "from nltk.tokenize import word_tokenize\n",
        "from nltk.stem import WordNetLemmatizer"
      ],
      "metadata": {
        "colab": {
          "base_uri": "https://localhost:8080/"
        },
        "id": "ldFlKSUY_eoO",
        "outputId": "067a647e-2de6-47b9-a102-29f184359906"
      },
      "execution_count": 3,
      "outputs": [
        {
          "output_type": "stream",
          "name": "stderr",
          "text": [
            "[nltk_data] Downloading package punkt to /root/nltk_data...\n",
            "[nltk_data]   Unzipping tokenizers/punkt.zip.\n",
            "[nltk_data] Downloading package stopwords to /root/nltk_data...\n",
            "[nltk_data]   Unzipping corpora/stopwords.zip.\n",
            "[nltk_data] Downloading package wordnet to /root/nltk_data...\n"
          ]
        }
      ]
    },
    {
      "cell_type": "code",
      "source": [
        "data = load_dataset(\"tdavidson/hate_speech_offensive\")"
      ],
      "metadata": {
        "colab": {
          "base_uri": "https://localhost:8080/",
          "height": 113,
          "referenced_widgets": [
            "6c281cf919c34acdb903f026b2605114",
            "0684b530ca05412cbfb04a3689ea5468",
            "9a1a581ad8ce457da2892423b701e0e6",
            "3fa0e0eb53174c35b6dfc8e657e8e00c",
            "afcca7d68e4a4264b9b34f15135c0c33",
            "2141d178b0254e078c34091f5c998f63",
            "05c14cbd1f454044a6aae6766d40b760",
            "9f60c2365e46465dae30ac37288a8bb0",
            "ebae48fc8ac74768b2fca4b76c909fe0",
            "c3dc0a1237a54b1da021949864cc8e5f",
            "78d6089735f347d6b7917add61d670a0",
            "6e3927ee101c44c9900d116c08e5d2a1",
            "952d7d144f7647178716f71f6b78c683",
            "025faf4348af4641abfb86b8277b8e33",
            "f4964f34be204113a517f78bb2a4763e",
            "08ecf2f949b7412ea74d9691df4761ee",
            "37550169de0547b7bc24041e31c0f696",
            "e7b36bbc2c1143eda3221ea351975029",
            "ad16d84fe59b43f19a255b5201df48b3",
            "f96e98d048dc42a28c63284d4b44265b",
            "0de895ea40944bdf8c6b26e4e1f0f248",
            "a73a33459db84637a4d4bee8022adbba",
            "a520bf3183834faa8c95ccd6a53a3588",
            "ea5a89f7136b47c8a3f67463c0463a09",
            "0ec76ec9931d41989f6354a5459bf20b",
            "7ef1721188514947b3c116308af94ac2",
            "8aa4645d8d224a75aba59e951c1f3960",
            "57a0e7746cf74ab08afb980d90510e06",
            "89ada1be06274ccfa23016a49d03b324",
            "9741580a7a8a4e57b535f7ca6964f4a9",
            "2f5cd472fdf64985837b8282a4b1653b",
            "55373a6ba6184f37ae4a0b6dd474d0e7",
            "4309e575d3824af0a45790d7221282d6"
          ]
        },
        "id": "Pc98eAbK-Yb9",
        "outputId": "b26b232d-456e-4083-ff89-6043bad23726"
      },
      "execution_count": 4,
      "outputs": [
        {
          "output_type": "display_data",
          "data": {
            "text/plain": [
              "Downloading readme:   0%|          | 0.00/5.92k [00:00<?, ?B/s]"
            ],
            "application/vnd.jupyter.widget-view+json": {
              "version_major": 2,
              "version_minor": 0,
              "model_id": "6c281cf919c34acdb903f026b2605114"
            }
          },
          "metadata": {}
        },
        {
          "output_type": "display_data",
          "data": {
            "text/plain": [
              "Downloading data:   0%|          | 0.00/1.63M [00:00<?, ?B/s]"
            ],
            "application/vnd.jupyter.widget-view+json": {
              "version_major": 2,
              "version_minor": 0,
              "model_id": "6e3927ee101c44c9900d116c08e5d2a1"
            }
          },
          "metadata": {}
        },
        {
          "output_type": "display_data",
          "data": {
            "text/plain": [
              "Generating train split:   0%|          | 0/24783 [00:00<?, ? examples/s]"
            ],
            "application/vnd.jupyter.widget-view+json": {
              "version_major": 2,
              "version_minor": 0,
              "model_id": "a520bf3183834faa8c95ccd6a53a3588"
            }
          },
          "metadata": {}
        }
      ]
    },
    {
      "cell_type": "code",
      "source": [
        "data_split = data['train'].train_test_split(test_size = 0.3)\n",
        "train = data_split['train']\n",
        "test = data_split['test']"
      ],
      "metadata": {
        "id": "xkLEMQd3-psE"
      },
      "execution_count": 5,
      "outputs": []
    },
    {
      "cell_type": "code",
      "source": [
        "train_df = train.to_pandas()\n",
        "test_df = test.to_pandas()"
      ],
      "metadata": {
        "id": "2ORhIyrL_Nw5"
      },
      "execution_count": 6,
      "outputs": []
    },
    {
      "cell_type": "code",
      "source": [
        "# Load the stop words\n",
        "stop_words = set(stopwords.words('english'))\n",
        "lemmatizer = WordNetLemmatizer()\n",
        "\n",
        "def preprocess_text(text):\n",
        "    # Lowercase the text\n",
        "    text = text.lower()\n",
        "    # Remove special characters and punctuation\n",
        "    text = re.sub(r'[^a-zA-Z0-9\\s]', '', text)\n",
        "    # Tokenize the text\n",
        "    tokens = word_tokenize(text)\n",
        "    # Remove stop words and lemmatize the tokens\n",
        "    tokens = [lemmatizer.lemmatize(word) for word in tokens if word not in stop_words]\n",
        "    # Join the tokens back into a single string\n",
        "    text = ' '.join(tokens)\n",
        "    return text\n",
        "\n",
        "# Apply the preprocessing function to the 'text' column\n",
        "train_df['tweet'] = train_df['tweet'].apply(preprocess_text)\n",
        "test_df['tweet'] = test_df['tweet'].apply(preprocess_text)"
      ],
      "metadata": {
        "id": "PC9DHpKX_U36"
      },
      "execution_count": 7,
      "outputs": []
    },
    {
      "cell_type": "code",
      "source": [
        "train_df['tokens'] = train_df['tweet'].apply(word_tokenize)\n",
        "test_df['tokens'] =  test_df['tweet'].apply(word_tokenize)\n",
        "\n",
        "# Train Word2Vec model\n",
        "model = Word2Vec(sentences=train_df['tokens'], vector_size=100, window=5, min_count=1, workers=4)\n",
        "def get_average_word2vec(tokens, model, vector_size):\n",
        "    # Initialize an empty vector\n",
        "    vec = np.zeros(vector_size)\n",
        "    count = 0\n",
        "    for word in tokens:\n",
        "        if word in model.wv:\n",
        "            vec += model.wv[word]\n",
        "            count += 1\n",
        "    if count != 0:\n",
        "        vec /= count\n",
        "    return vec\n",
        "\n",
        "vector_size = model.vector_size\n",
        "\n",
        "train_df['text_vec'] = train_df['tokens'].apply(lambda x: get_average_word2vec(x, model, vector_size))\n",
        "test_df['text_vec'] = test_df['tokens'].apply(lambda x: get_average_word2vec(x, model, vector_size))\n",
        "\n",
        "# Convert lists of vectors to a 2D array for the classifier\n",
        "X_train = np.stack(train_df['text_vec'].values)\n",
        "y_train = train_df['class'].values\n",
        "X_test = np.stack(test_df['text_vec'].values)\n",
        "y_test = test_df['class'].values"
      ],
      "metadata": {
        "id": "ODnOAP7W_ymQ"
      },
      "execution_count": 8,
      "outputs": []
    },
    {
      "cell_type": "code",
      "source": [
        "#Applying data-resampling\n",
        "# Define the resampling pipeline\n",
        "over = SMOTE(sampling_strategy= 'auto')  # Oversample the minority class to 10% of the majority class\n",
        "under = RandomUnderSampler(sampling_strategy='auto')  # Undersample the majority class to 50% of the original\n",
        "\n",
        "# Combine the oversampling and undersampling in a pipeline\n",
        "steps = [('o', over), ('u', under)]\n",
        "pipeline = Pipeline(steps=steps)\n",
        "\n",
        "# Apply resampling to the training data\n",
        "X_train_res, y_train_res = pipeline.fit_resample(X_train, y_train)"
      ],
      "metadata": {
        "id": "nfslKNASf0Gh"
      },
      "execution_count": 9,
      "outputs": []
    },
    {
      "cell_type": "code",
      "source": [
        "y_train_res = to_categorical(y_train_res, num_classes=3)\n",
        "y_test = to_categorical(y_test, num_classes=3)"
      ],
      "metadata": {
        "id": "NwkU9VE--lNF"
      },
      "execution_count": 10,
      "outputs": []
    },
    {
      "cell_type": "code",
      "source": [
        "y_train_res"
      ],
      "metadata": {
        "colab": {
          "base_uri": "https://localhost:8080/"
        },
        "id": "pzfjtXuG-obz",
        "outputId": "c477a164-5119-4192-e3b4-c070fbb29324"
      },
      "execution_count": 19,
      "outputs": [
        {
          "output_type": "execute_result",
          "data": {
            "text/plain": [
              "array([[1., 0., 0.],\n",
              "       [1., 0., 0.],\n",
              "       [1., 0., 0.],\n",
              "       ...,\n",
              "       [0., 0., 1.],\n",
              "       [0., 0., 1.],\n",
              "       [0., 0., 1.]], dtype=float32)"
            ]
          },
          "metadata": {},
          "execution_count": 19
        }
      ]
    },
    {
      "cell_type": "code",
      "source": [
        "model = Sequential()\n",
        "\n",
        "model.add(LSTM(128,input_shape=(100,1),return_sequences=False))\n",
        "model.add(Dense(64, activation = 'relu'))\n",
        "model.add(Dropout(0.2))\n",
        "model.add(Dense(3,activation='softmax'))\n",
        "\n",
        "model.summary()"
      ],
      "metadata": {
        "colab": {
          "base_uri": "https://localhost:8080/"
        },
        "id": "H0xXKSPfCCBw",
        "outputId": "0a09d3de-7da8-4324-a109-7d24517b814b"
      },
      "execution_count": 11,
      "outputs": [
        {
          "output_type": "stream",
          "name": "stdout",
          "text": [
            "Model: \"sequential\"\n",
            "_________________________________________________________________\n",
            " Layer (type)                Output Shape              Param #   \n",
            "=================================================================\n",
            " lstm (LSTM)                 (None, 128)               66560     \n",
            "                                                                 \n",
            " dense (Dense)               (None, 64)                8256      \n",
            "                                                                 \n",
            " dropout (Dropout)           (None, 64)                0         \n",
            "                                                                 \n",
            " dense_1 (Dense)             (None, 3)                 195       \n",
            "                                                                 \n",
            "=================================================================\n",
            "Total params: 75011 (293.01 KB)\n",
            "Trainable params: 75011 (293.01 KB)\n",
            "Non-trainable params: 0 (0.00 Byte)\n",
            "_________________________________________________________________\n"
          ]
        }
      ]
    },
    {
      "cell_type": "code",
      "source": [
        "model.compile(loss='categorical_crossentropy',optimizer='adam',metrics=['accuracy'])"
      ],
      "metadata": {
        "id": "6TtEakjtCcDG"
      },
      "execution_count": 12,
      "outputs": []
    },
    {
      "cell_type": "code",
      "source": [
        "model.fit(X_train_res,y_train_res,epochs=50,validation_data=(X_test,y_test), batch_size = 32)"
      ],
      "metadata": {
        "colab": {
          "base_uri": "https://localhost:8080/"
        },
        "id": "IHLMJg4UCm0D",
        "outputId": "dc882461-8ea7-4de3-f7f0-0b9322ebb32b"
      },
      "execution_count": 13,
      "outputs": [
        {
          "output_type": "stream",
          "name": "stdout",
          "text": [
            "Epoch 1/50\n",
            "1256/1256 [==============================] - 14s 8ms/step - loss: 1.0145 - accuracy: 0.4741 - val_loss: 0.9322 - val_accuracy: 0.7450\n",
            "Epoch 2/50\n",
            "1256/1256 [==============================] - 10s 8ms/step - loss: 1.0084 - accuracy: 0.4794 - val_loss: 0.9027 - val_accuracy: 0.7143\n",
            "Epoch 3/50\n",
            "1256/1256 [==============================] - 10s 8ms/step - loss: 1.0076 - accuracy: 0.4800 - val_loss: 0.9416 - val_accuracy: 0.6467\n",
            "Epoch 4/50\n",
            "1256/1256 [==============================] - 9s 7ms/step - loss: 1.0078 - accuracy: 0.4810 - val_loss: 0.9019 - val_accuracy: 0.7083\n",
            "Epoch 5/50\n",
            "1256/1256 [==============================] - 9s 7ms/step - loss: 1.0063 - accuracy: 0.4820 - val_loss: 0.9221 - val_accuracy: 0.7069\n",
            "Epoch 6/50\n",
            "1256/1256 [==============================] - 10s 8ms/step - loss: 1.0045 - accuracy: 0.4824 - val_loss: 0.8600 - val_accuracy: 0.7318\n",
            "Epoch 7/50\n",
            "1256/1256 [==============================] - 9s 7ms/step - loss: 0.9958 - accuracy: 0.4885 - val_loss: 0.9031 - val_accuracy: 0.6430\n",
            "Epoch 8/50\n",
            "1256/1256 [==============================] - 9s 7ms/step - loss: 0.9676 - accuracy: 0.5157 - val_loss: 0.8252 - val_accuracy: 0.7303\n",
            "Epoch 9/50\n",
            "1256/1256 [==============================] - 10s 8ms/step - loss: 0.9434 - accuracy: 0.5344 - val_loss: 0.7842 - val_accuracy: 0.7801\n",
            "Epoch 10/50\n",
            "1256/1256 [==============================] - 10s 8ms/step - loss: 1.0186 - accuracy: 0.4931 - val_loss: 0.9275 - val_accuracy: 0.6753\n",
            "Epoch 11/50\n",
            "1256/1256 [==============================] - 10s 8ms/step - loss: 0.9774 - accuracy: 0.5150 - val_loss: 0.8562 - val_accuracy: 0.7345\n",
            "Epoch 12/50\n",
            "1256/1256 [==============================] - 10s 8ms/step - loss: 1.0054 - accuracy: 0.5047 - val_loss: 0.8929 - val_accuracy: 0.7210\n",
            "Epoch 13/50\n",
            "1256/1256 [==============================] - 10s 8ms/step - loss: 0.9884 - accuracy: 0.4974 - val_loss: 0.8910 - val_accuracy: 0.7167\n",
            "Epoch 14/50\n",
            "1256/1256 [==============================] - 10s 8ms/step - loss: 0.9794 - accuracy: 0.5071 - val_loss: 0.9804 - val_accuracy: 0.5723\n",
            "Epoch 15/50\n",
            "1256/1256 [==============================] - 9s 7ms/step - loss: 0.9744 - accuracy: 0.5137 - val_loss: 0.8642 - val_accuracy: 0.6946\n",
            "Epoch 16/50\n",
            "1256/1256 [==============================] - 10s 8ms/step - loss: 0.9704 - accuracy: 0.5149 - val_loss: 0.7928 - val_accuracy: 0.7354\n",
            "Epoch 17/50\n",
            "1256/1256 [==============================] - 10s 8ms/step - loss: 0.9682 - accuracy: 0.5175 - val_loss: 0.7944 - val_accuracy: 0.7482\n",
            "Epoch 18/50\n",
            "1256/1256 [==============================] - 10s 8ms/step - loss: 0.9625 - accuracy: 0.5205 - val_loss: 0.7663 - val_accuracy: 0.7572\n",
            "Epoch 19/50\n",
            "1256/1256 [==============================] - 9s 7ms/step - loss: 0.9570 - accuracy: 0.5270 - val_loss: 0.8239 - val_accuracy: 0.7067\n",
            "Epoch 20/50\n",
            "1256/1256 [==============================] - 10s 8ms/step - loss: 0.9448 - accuracy: 0.5327 - val_loss: 0.7900 - val_accuracy: 0.7459\n",
            "Epoch 21/50\n",
            "1256/1256 [==============================] - 10s 8ms/step - loss: 0.9371 - accuracy: 0.5369 - val_loss: 0.9784 - val_accuracy: 0.6200\n",
            "Epoch 22/50\n",
            "1256/1256 [==============================] - 9s 7ms/step - loss: 0.9159 - accuracy: 0.5510 - val_loss: 0.8328 - val_accuracy: 0.7174\n",
            "Epoch 23/50\n",
            "1256/1256 [==============================] - 10s 8ms/step - loss: 0.8884 - accuracy: 0.5693 - val_loss: 0.8816 - val_accuracy: 0.7208\n",
            "Epoch 24/50\n",
            "1256/1256 [==============================] - 10s 8ms/step - loss: 0.8748 - accuracy: 0.5777 - val_loss: 0.7120 - val_accuracy: 0.7872\n",
            "Epoch 25/50\n",
            "1256/1256 [==============================] - 10s 8ms/step - loss: 0.8713 - accuracy: 0.5782 - val_loss: 0.7381 - val_accuracy: 0.7910\n",
            "Epoch 26/50\n",
            "1256/1256 [==============================] - 9s 7ms/step - loss: 0.8572 - accuracy: 0.5871 - val_loss: 0.8120 - val_accuracy: 0.7381\n",
            "Epoch 27/50\n",
            "1256/1256 [==============================] - 9s 8ms/step - loss: 0.8570 - accuracy: 0.5857 - val_loss: 0.7205 - val_accuracy: 0.7878\n",
            "Epoch 28/50\n",
            "1256/1256 [==============================] - 10s 8ms/step - loss: 0.8489 - accuracy: 0.5886 - val_loss: 0.7531 - val_accuracy: 0.7775\n",
            "Epoch 29/50\n",
            "1256/1256 [==============================] - 9s 7ms/step - loss: 0.8410 - accuracy: 0.5948 - val_loss: 0.7696 - val_accuracy: 0.7763\n",
            "Epoch 30/50\n",
            "1256/1256 [==============================] - 9s 7ms/step - loss: 0.8343 - accuracy: 0.6008 - val_loss: 0.6617 - val_accuracy: 0.7919\n",
            "Epoch 31/50\n",
            "1256/1256 [==============================] - 11s 8ms/step - loss: 0.8304 - accuracy: 0.6054 - val_loss: 0.6524 - val_accuracy: 0.8007\n",
            "Epoch 32/50\n",
            "1256/1256 [==============================] - 10s 8ms/step - loss: 0.8307 - accuracy: 0.6062 - val_loss: 0.7661 - val_accuracy: 0.8051\n",
            "Epoch 33/50\n",
            "1256/1256 [==============================] - 9s 7ms/step - loss: 0.8253 - accuracy: 0.6080 - val_loss: 0.7575 - val_accuracy: 0.7680\n",
            "Epoch 34/50\n",
            "1256/1256 [==============================] - 10s 8ms/step - loss: 0.8196 - accuracy: 0.6102 - val_loss: 0.7477 - val_accuracy: 0.7668\n",
            "Epoch 35/50\n",
            "1256/1256 [==============================] - 10s 8ms/step - loss: 0.8137 - accuracy: 0.6178 - val_loss: 0.7756 - val_accuracy: 0.7617\n",
            "Epoch 36/50\n",
            "1256/1256 [==============================] - 9s 7ms/step - loss: 0.8076 - accuracy: 0.6215 - val_loss: 0.6612 - val_accuracy: 0.7991\n",
            "Epoch 37/50\n",
            "1256/1256 [==============================] - 9s 7ms/step - loss: 0.8057 - accuracy: 0.6229 - val_loss: 0.6641 - val_accuracy: 0.8023\n",
            "Epoch 38/50\n",
            "1256/1256 [==============================] - 10s 8ms/step - loss: 0.8036 - accuracy: 0.6232 - val_loss: 0.6947 - val_accuracy: 0.7650\n",
            "Epoch 39/50\n",
            "1256/1256 [==============================] - 10s 8ms/step - loss: 0.7987 - accuracy: 0.6287 - val_loss: 0.6053 - val_accuracy: 0.7980\n",
            "Epoch 40/50\n",
            "1256/1256 [==============================] - 9s 7ms/step - loss: 0.7901 - accuracy: 0.6350 - val_loss: 0.6638 - val_accuracy: 0.7987\n",
            "Epoch 41/50\n",
            "1256/1256 [==============================] - 9s 7ms/step - loss: 0.7883 - accuracy: 0.6338 - val_loss: 0.7668 - val_accuracy: 0.7500\n",
            "Epoch 42/50\n",
            "1256/1256 [==============================] - 9s 7ms/step - loss: 0.7839 - accuracy: 0.6340 - val_loss: 0.7215 - val_accuracy: 0.7583\n",
            "Epoch 43/50\n",
            "1256/1256 [==============================] - 10s 8ms/step - loss: 0.7824 - accuracy: 0.6385 - val_loss: 0.6386 - val_accuracy: 0.7914\n",
            "Epoch 44/50\n",
            "1256/1256 [==============================] - 9s 7ms/step - loss: 0.7792 - accuracy: 0.6384 - val_loss: 0.7634 - val_accuracy: 0.7377\n",
            "Epoch 45/50\n",
            "1256/1256 [==============================] - 10s 8ms/step - loss: 0.7759 - accuracy: 0.6417 - val_loss: 0.6704 - val_accuracy: 0.7626\n",
            "Epoch 46/50\n",
            "1256/1256 [==============================] - 9s 7ms/step - loss: 0.7723 - accuracy: 0.6441 - val_loss: 0.6623 - val_accuracy: 0.7471\n",
            "Epoch 47/50\n",
            "1256/1256 [==============================] - 9s 7ms/step - loss: 0.7715 - accuracy: 0.6465 - val_loss: 0.6626 - val_accuracy: 0.7802\n",
            "Epoch 48/50\n",
            "1256/1256 [==============================] - 10s 8ms/step - loss: 0.7664 - accuracy: 0.6489 - val_loss: 0.6304 - val_accuracy: 0.7849\n",
            "Epoch 49/50\n",
            "1256/1256 [==============================] - 9s 8ms/step - loss: 0.7662 - accuracy: 0.6487 - val_loss: 0.6253 - val_accuracy: 0.7966\n",
            "Epoch 50/50\n",
            "1256/1256 [==============================] - 10s 8ms/step - loss: 0.7619 - accuracy: 0.6521 - val_loss: 0.7189 - val_accuracy: 0.7279\n"
          ]
        },
        {
          "output_type": "execute_result",
          "data": {
            "text/plain": [
              "<keras.src.callbacks.History at 0x7d88d846dbd0>"
            ]
          },
          "metadata": {},
          "execution_count": 13
        }
      ]
    },
    {
      "cell_type": "code",
      "source": [
        "y_pred = model.predict(X_test)"
      ],
      "metadata": {
        "colab": {
          "base_uri": "https://localhost:8080/"
        },
        "id": "a5khn0rrbJXl",
        "outputId": "b5538417-3a95-4098-8947-b1794b0c9776"
      },
      "execution_count": 14,
      "outputs": [
        {
          "output_type": "stream",
          "name": "stdout",
          "text": [
            "233/233 [==============================] - 1s 3ms/step\n"
          ]
        }
      ]
    },
    {
      "cell_type": "code",
      "source": [
        "y_pred"
      ],
      "metadata": {
        "colab": {
          "base_uri": "https://localhost:8080/"
        },
        "id": "SrUTuYdzbQgN",
        "outputId": "54caeb70-41f2-4f53-e1c5-13544c7adeed"
      },
      "execution_count": 15,
      "outputs": [
        {
          "output_type": "execute_result",
          "data": {
            "text/plain": [
              "array([[0.20659773, 0.77047944, 0.02292282],\n",
              "       [0.33701906, 0.08009719, 0.5828837 ],\n",
              "       [0.42827934, 0.389693  , 0.18202765],\n",
              "       ...,\n",
              "       [0.14547609, 0.03614113, 0.8183828 ],\n",
              "       [0.4858342 , 0.21205065, 0.3021151 ],\n",
              "       [0.45058474, 0.17845197, 0.37096334]], dtype=float32)"
            ]
          },
          "metadata": {},
          "execution_count": 15
        }
      ]
    },
    {
      "cell_type": "code",
      "source": [
        "y_pred_classes = np.argmax(y_pred, axis = 1)"
      ],
      "metadata": {
        "id": "K24t4BQrbpNd"
      },
      "execution_count": 16,
      "outputs": []
    },
    {
      "cell_type": "code",
      "source": [
        "set(y_pred_classes)"
      ],
      "metadata": {
        "colab": {
          "base_uri": "https://localhost:8080/"
        },
        "id": "P200dCJvbu7o",
        "outputId": "c8b5769f-2304-456f-aa99-b21227691866"
      },
      "execution_count": 17,
      "outputs": [
        {
          "output_type": "execute_result",
          "data": {
            "text/plain": [
              "{0, 1, 2}"
            ]
          },
          "metadata": {},
          "execution_count": 17
        }
      ]
    },
    {
      "cell_type": "code",
      "source": [
        "y_test_classes = np.argmax(y_test, axis = 1)"
      ],
      "metadata": {
        "id": "kYizFH9vMrcm"
      },
      "execution_count": 18,
      "outputs": []
    },
    {
      "cell_type": "code",
      "source": [
        "set(y_test_classes)"
      ],
      "metadata": {
        "colab": {
          "base_uri": "https://localhost:8080/"
        },
        "id": "Ay7zTrdiMwOi",
        "outputId": "442a11bc-1b5b-46c1-ad90-5073998be71f"
      },
      "execution_count": 19,
      "outputs": [
        {
          "output_type": "execute_result",
          "data": {
            "text/plain": [
              "{0, 1, 2}"
            ]
          },
          "metadata": {},
          "execution_count": 19
        }
      ]
    },
    {
      "cell_type": "code",
      "source": [
        "print(classification_report(y_test_classes, y_pred_classes))"
      ],
      "metadata": {
        "colab": {
          "base_uri": "https://localhost:8080/"
        },
        "id": "ZBnoSRrxbxH2",
        "outputId": "60b6d1e4-14ca-4d2b-cfb8-eb5db6e46198"
      },
      "execution_count": 21,
      "outputs": [
        {
          "output_type": "stream",
          "name": "stdout",
          "text": [
            "              precision    recall  f1-score   support\n",
            "\n",
            "           0       0.11      0.42      0.17       424\n",
            "           1       0.94      0.82      0.87      5796\n",
            "           2       0.68      0.39      0.49      1215\n",
            "\n",
            "    accuracy                           0.73      7435\n",
            "   macro avg       0.57      0.54      0.51      7435\n",
            "weighted avg       0.85      0.73      0.77      7435\n",
            "\n"
          ]
        }
      ]
    },
    {
      "cell_type": "code",
      "source": [
        "model.save(\"LSTM-HateSpeech.h5\")"
      ],
      "metadata": {
        "colab": {
          "base_uri": "https://localhost:8080/"
        },
        "id": "uTLhce8Ve-zn",
        "outputId": "0555336a-1e3b-44da-85a3-95026e0e2792"
      },
      "execution_count": null,
      "outputs": [
        {
          "output_type": "stream",
          "name": "stderr",
          "text": [
            "/usr/local/lib/python3.10/dist-packages/keras/src/engine/training.py:3103: UserWarning: You are saving your model as an HDF5 file via `model.save()`. This file format is considered legacy. We recommend using instead the native Keras format, e.g. `model.save('my_model.keras')`.\n",
            "  saving_api.save_model(\n"
          ]
        }
      ]
    },
    {
      "cell_type": "code",
      "source": [
        "#Metrics for LSTM\n",
        "'''\n",
        "       precision    recall  f1-score   support\n",
        "\n",
        "           0       0.11      0.42      0.17       424\n",
        "           1       0.94      0.82      0.87      5796\n",
        "           2       0.68      0.39      0.49      1215\n",
        "\n",
        "    accuracy                           0.73      7435\n",
        "   macro avg       0.57      0.54      0.51      7435\n",
        "weighted avg       0.85      0.73      0.77      7435\n",
        "\n",
        "'''"
      ],
      "metadata": {
        "id": "6LCBp0WVNBOG"
      },
      "execution_count": null,
      "outputs": []
    }
  ]
}